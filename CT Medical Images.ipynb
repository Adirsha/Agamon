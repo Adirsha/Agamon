{
 "cells": [
  {
   "cell_type": "markdown",
   "metadata": {},
   "source": [
    "## According to the tutorial in:\n",
    "https://www.raddq.com/dicom-processing-segmentation-visualization-in-python/"
   ]
  },
  {
   "cell_type": "code",
   "execution_count": 54,
   "metadata": {},
   "outputs": [],
   "source": [
    "import numpy as np\n",
    "import pandas as pd\n",
    "import pydicom\n",
    "import os\n",
    "from glob import glob\n",
    "import matplotlib.pyplot as plt"
   ]
  },
  {
   "cell_type": "markdown",
   "metadata": {},
   "source": [
    "## Data Loading"
   ]
  },
  {
   "cell_type": "code",
   "execution_count": 55,
   "metadata": {},
   "outputs": [
    {
     "name": "stdout",
     "output_type": "stream",
     "text": [
      "Total of 100 DICOM images.\n",
      "First 5 filenames:\n",
      "C:/Users/User/Dropbox/Agamon/siim/dicom_dir\\ID_0000_AGE_0060_CONTRAST_1_CT.dcm\n",
      "C:/Users/User/Dropbox/Agamon/siim/dicom_dir\\ID_0001_AGE_0069_CONTRAST_1_CT.dcm\n",
      "C:/Users/User/Dropbox/Agamon/siim/dicom_dir\\ID_0002_AGE_0074_CONTRAST_1_CT.dcm\n",
      "C:/Users/User/Dropbox/Agamon/siim/dicom_dir\\ID_0003_AGE_0075_CONTRAST_1_CT.dcm\n",
      "C:/Users/User/Dropbox/Agamon/siim/dicom_dir\\ID_0004_AGE_0056_CONTRAST_1_CT.dcm\n"
     ]
    }
   ],
   "source": [
    "data_path = \"C:/Users/User/Dropbox/Agamon/siim/dicom_dir\"\n",
    "g = glob(data_path + '/*.dcm')\n",
    "\n",
    "# Print out the first 5 file names to verify we're in the right folder.\n",
    "print (\"Total of %d DICOM images.\\nFirst 5 filenames:\" % len(g))\n",
    "print ('\\n'.join(g[:5]))"
   ]
  },
  {
   "cell_type": "markdown",
   "metadata": {},
   "source": [
    "## Loading all dicoms and images into lists"
   ]
  },
  {
   "cell_type": "code",
   "execution_count": 56,
   "metadata": {},
   "outputs": [],
   "source": [
    "def load_scan(path):\n",
    "    slices = [pydicom.read_file(path + '/' + s) for s in os.listdir(path)]\n",
    "    slices.sort(key = lambda x: int(x.InstanceNumber))\n",
    "    try:\n",
    "        slice_thickness = np.abs(slices[0].ImagePositionPatient[2] - slices[1].ImagePositionPatient[2])\n",
    "    except:\n",
    "        slice_thickness = np.abs(slices[0].SliceLocation - slices[1].SliceLocation)\n",
    "        \n",
    "    for s in slices:\n",
    "        s.SliceThickness = slice_thickness\n",
    "        \n",
    "    return slices\n",
    "\n",
    "def get_pixels_hu(scans):\n",
    "    image = np.stack([s.pixel_array for s in scans])\n",
    "    # Convert to int16 (from sometimes int16), \n",
    "    # should be possible as values should always be low enough (<32k)\n",
    "    image = image.astype(np.int16)\n",
    "\n",
    "    # Set outside-of-scan pixels to 1\n",
    "    # The intercept is usually -1024, so air is approximately 0\n",
    "    image[image == -2000] = 0\n",
    "    \n",
    "    # Convert to Hounsfield units (HU)\n",
    "    intercept = scans[0].RescaleIntercept\n",
    "    slope = scans[0].RescaleSlope\n",
    "    \n",
    "    if slope != 1:\n",
    "        image = slope * image.astype(np.float64)\n",
    "        image = image.astype(np.int16)\n",
    "        \n",
    "    image += np.int16(intercept)\n",
    "    \n",
    "    return np.array(image, dtype=np.int16)\n",
    "\n",
    "id=0\n",
    "patient = load_scan(data_path)\n",
    "imgs = get_pixels_hu(patient)"
   ]
  },
  {
   "cell_type": "markdown",
   "metadata": {},
   "source": [
    "## Example - the first dicom file (contains a lot of meta data)"
   ]
  },
  {
   "cell_type": "code",
   "execution_count": 57,
   "metadata": {
    "scrolled": true
   },
   "outputs": [
    {
     "data": {
      "text/plain": [
       "(0008, 0005) Specific Character Set              CS: 'ISO_IR 100'\n",
       "(0008, 0008) Image Type                          CS: ['ORIGINAL', 'PRIMARY', 'AXIAL']\n",
       "(0008, 0012) Instance Creation Date              DA: '20000621'\n",
       "(0008, 0013) Instance Creation Time              TM: '163834'\n",
       "(0008, 0016) SOP Class UID                       UI: CT Image Storage\n",
       "(0008, 0018) SOP Instance UID                    UI: 1.3.6.1.4.1.14519.5.2.1.6450.9002.588397851877365139904454952804\n",
       "(0008, 0020) Study Date                          DA: '20000621'\n",
       "(0008, 0021) Series Date                         DA: '20000621'\n",
       "(0008, 0022) Acquisition Date                    DA: '20000621'\n",
       "(0008, 0023) Content Date                        DA: '20000621'\n",
       "(0008, 0030) Study Time                          TM: '163602'\n",
       "(0008, 0031) Series Time                         TM: '163730'\n",
       "(0008, 0032) Acquisition Time                    TM: '163826'\n",
       "(0008, 0033) Content Time                        TM: '163834'\n",
       "(0008, 0050) Accession Number                    SH: '2400398837018169'\n",
       "(0008, 0060) Modality                            CS: 'CT'\n",
       "(0008, 0070) Manufacturer                        LO: 'GE MEDICAL SYSTEMS'\n",
       "(0008, 0090) Referring Physician's Name          PN: ' '\n",
       "(0008, 1030) Study Description                   LO: 'CT THORAX  WITH CONTRA'\n",
       "(0008, 1032)  Procedure Code Sequence   1 item(s) ---- \n",
       "\n",
       "   ---------\n",
       "(0008, 103e) Series Description                  LO: 'LOCALIZATION'\n",
       "(0008, 1090) Manufacturer's Model Name           LO: 'LightSpeed VCT'\n",
       "(0009, 0010) Private Creator                     LO: 'GEMS_IDEN_01'\n",
       "(0009, 1002) [Suite id]                          SH: 'CT1X'\n",
       "(0009, 1004) [Product id]                        SH: 'LightSpeed VCT'\n",
       "(0010, 0010) Patient's Name                      PN: 'TCGA-50-6595'\n",
       "(0010, 0020) Patient ID                          LO: 'TCGA-50-6595'\n",
       "(0010, 0030) Patient's Birth Date                DA: ''\n",
       "(0010, 0040) Patient's Sex                       CS: 'F'\n",
       "(0010, 1010) Patient's Age                       AS: '074Y'\n",
       "(0010, 21b0) Additional Patient History          LT: 'R/O PE'\n",
       "(0012, 0062) Patient Identity Removed            CS: 'YES'\n",
       "(0012, 0063) De-identification Method            LO: 'Per DICOM PS 3.15 AnnexE. Details in 0012,0064'\n",
       "(0012, 0064)  De-identification Method Code Sequence   7 item(s) ---- \n",
       "   (0008, 0100) Code Value                          SH: '113100'\n",
       "   (0008, 0102) Coding Scheme Designator            SH: 'DCM'\n",
       "   (0008, 0104) Code Meaning                        LO: 'Basic Application Confidentiality Profile'\n",
       "   ---------\n",
       "   (0008, 0100) Code Value                          SH: '113101'\n",
       "   (0008, 0102) Coding Scheme Designator            SH: 'DCM'\n",
       "   (0008, 0104) Code Meaning                        LO: 'Clean Pixel Data Option'\n",
       "   ---------\n",
       "   (0008, 0100) Code Value                          SH: '113105'\n",
       "   (0008, 0102) Coding Scheme Designator            SH: 'DCM'\n",
       "   (0008, 0104) Code Meaning                        LO: 'Clean Descriptors Option'\n",
       "   ---------\n",
       "   (0008, 0100) Code Value                          SH: '113107'\n",
       "   (0008, 0102) Coding Scheme Designator            SH: 'DCM'\n",
       "   (0008, 0104) Code Meaning                        LO: 'Retain Longitudinal With Modified Dates Option'\n",
       "   ---------\n",
       "   (0008, 0100) Code Value                          SH: '113108'\n",
       "   (0008, 0102) Coding Scheme Designator            SH: 'DCM'\n",
       "   (0008, 0104) Code Meaning                        LO: 'Retain Patient Characteristics Option'\n",
       "   ---------\n",
       "   (0008, 0100) Code Value                          SH: '113109'\n",
       "   (0008, 0102) Coding Scheme Designator            SH: 'DCM'\n",
       "   (0008, 0104) Code Meaning                        LO: 'Retain Device Identity Option'\n",
       "   ---------\n",
       "   (0008, 0100) Code Value                          SH: '113111'\n",
       "   (0008, 0102) Coding Scheme Designator            SH: 'DCM'\n",
       "   (0008, 0104) Code Meaning                        LO: 'Retain Safe Private Option'\n",
       "   ---------\n",
       "(0013, 0010) Private Creator                     LO: 'CTP'\n",
       "(0013, 1010) Private tag data                    UN: b'TCGA-LUAD\\x00'\n",
       "(0013, 1013) Private tag data                    UN: b'64509002'\n",
       "(0018, 0015) Body Part Examined                  CS: 'LUNG'\n",
       "(0018, 0022) Scan Options                        CS: 'HELICAL MODE'\n",
       "(0018, 0050) Slice Thickness                     DS: \"114.5\"\n",
       "(0018, 0060) KVP                                 DS: \"100\"\n",
       "(0018, 0090) Data Collection Diameter            DS: \"500.000000\"\n",
       "(0018, 1020) Software Version(s)                 LO: '07MW18.4'\n",
       "(0018, 1030) Protocol Name                       LO: '5.35 PE  TEST BOLUS   BOTTOM TO TOP  ( P3T SOFTWARE ) ********'\n",
       "(0018, 1100) Reconstruction Diameter             DS: \"360.000000\"\n",
       "(0018, 1110) Distance Source to Detector         DS: \"949.075012\"\n",
       "(0018, 1111) Distance Source to Patient          DS: \"541.000000\"\n",
       "(0018, 1120) Gantry/Detector Tilt                DS: \"0.000000\"\n",
       "(0018, 1130) Table Height                        DS: \"148.000000\"\n",
       "(0018, 1140) Rotation Direction                  CS: 'CW'\n",
       "(0018, 1150) Exposure Time                       IS: '1095'\n",
       "(0018, 1151) X-Ray Tube Current                  IS: '52'\n",
       "(0018, 1152) Exposure                            IS: '14'\n",
       "(0018, 1160) Filter Type                         SH: 'BODY FILTER'\n",
       "(0018, 1170) Generator Power                     IS: '25000'\n",
       "(0018, 1190) Focal Spot(s)                       DS: \"0.700000\"\n",
       "(0018, 1210) Convolution Kernel                  SH: 'STANDARD'\n",
       "(0018, 5100) Patient Position                    CS: 'FFS'\n",
       "(0018, 9305) Revolution Time                     FD: 0.6000000238418579\n",
       "(0018, 9306) Single Collimation Width            FD: 0.625\n",
       "(0018, 9307) Total Collimation Width             FD: 20.0\n",
       "(0018, 9309) Table Speed                         FD: 17.70833421912455\n",
       "(0018, 9310) Table Feed per Rotation             FD: 10.62500095367432\n",
       "(0018, 9311) Spiral Pitch Factor                 FD: 0.5312500476837159\n",
       "(0019, 0010) Private Creator                     LO: 'GEMS_ACQU_01'\n",
       "(0019, 1002) [Detector Channel]                  SL: 912\n",
       "(0019, 1003) [Cell number at Theta]              DS: \"389.750000\"\n",
       "(0019, 1004) [Cell spacing]                      DS: \"1.023900\"\n",
       "(0019, 100f) [Horiz. Frame of ref.]              DS: \"1929.500000\"\n",
       "(0019, 1011) [Series contrast]                   SS: 0\n",
       "(0019, 1018) [First scan ras]                    LO: 'I'\n",
       "(0019, 101a) [Last scan ras]                     LO: 'I'\n",
       "(0019, 1023) [Table Speed [mm/rotation]]         DS: \"10.625001\"\n",
       "(0019, 1024) [Mid Scan Time [sec]]               DS: \"0.877439\"\n",
       "(0019, 1025) [Mid scan flag]                     SS: 1\n",
       "(0019, 1026) [Tube Azimuth [degree]]             SL: 354\n",
       "(0019, 1027) [Rotation Speed [msec]]             DS: \"0.600000\"\n",
       "(0019, 102c) [Number of triggers]                SL: 8451\n",
       "(0019, 102e) [Angle of first view]               DS: \"0.000000\"\n",
       "(0019, 102f) [Trigger frequency]                 DS: \"1640.000000\"\n",
       "(0019, 1039) [SFOV Type]                         SS: 1024\n",
       "(0019, 1042) [Segment Number]                    SS: 0\n",
       "(0019, 1043) [Total Segments Required]           SS: 0\n",
       "(0019, 1047) [View compression factor]           SS: 1\n",
       "(0019, 1052) [Recon post proc. Flag]             SS: 1\n",
       "(0019, 106a) [Dependent on #views processed]     SS: 4\n",
       "(0020, 000d) Study Instance UID                  UI: 1.3.6.1.4.1.14519.5.2.1.6450.9002.414530650520592976265083061155\n",
       "(0020, 000e) Series Instance UID                 UI: 1.3.6.1.4.1.14519.5.2.1.6450.9002.200341997905627984892937825671\n",
       "(0020, 0010) Study ID                            SH: ''\n",
       "(0020, 0011) Series Number                       IS: '2'\n",
       "(0020, 0012) Acquisition Number                  IS: '1'\n",
       "(0020, 0013) Instance Number                     IS: '2'\n",
       "(0020, 0032) Image Position (Patient)            DS: ['-189.300', '-180.000', '-85.000']\n",
       "(0020, 0037) Image Orientation (Patient)         DS: ['1.000000', '0.000000', '0.000000', '0.000000', '1.000000', '0.000000']\n",
       "(0020, 0052) Frame of Reference UID              UI: 1.3.6.1.4.1.14519.5.2.1.6450.9002.107617619610631537034461207661\n",
       "(0020, 1040) Position Reference Indicator        LO: 'SN'\n",
       "(0020, 1041) Slice Location                      DS: \"-85.000\"\n",
       "(0021, 0010) Private Creator                     LO: 'GEMS_RELA_01'\n",
       "(0021, 1003) [Series from which Prescribed]      SS: 2\n",
       "(0021, 1035) [Series from which prescribed]      SS: 1\n",
       "(0021, 1036) [Image from which prescribed]       SS: 2\n",
       "(0021, 1091) [Biopsy position]                   SS: 0\n",
       "(0021, 1092) [Biopsy T location]                 FL: 0.0\n",
       "(0021, 1093) [Biopsy ref location]               FL: 0.0\n",
       "(0023, 0010) Private Creator                     LO: 'GEMS_STDY_01'\n",
       "(0027, 0010) Private Creator                     LO: 'GEMS_IMAG_01'\n",
       "(0027, 1010) [Scout Type]                        SS: 0\n",
       "(0027, 101c) [Vma mamp]                          SL: 0\n",
       "(0027, 101e) [Vma mod]                           SL: 0\n",
       "(0027, 101f) [Vma clip]                          SL: 166\n",
       "(0027, 1020) [Smart scan ON/OFF flag]            SS: 1\n",
       "(0027, 1035) [Plane Type]                        SS: 2\n",
       "(0027, 1042) [Center R coord of plane image]     FL: 9.300000190734863\n",
       "(0027, 1043) [Center A coord of plane image]     FL: 0.0\n",
       "(0027, 1044) [Center S coord of plane image]     FL: -85.0\n",
       "(0027, 1045) [Normal R coord]                    FL: 0.0\n",
       "(0027, 1046) [Normal A coord]                    FL: 0.0\n",
       "(0027, 1047) [Normal S coord]                    FL: -1.0\n",
       "(0027, 1050) [Scan Start Location]               FL: 0.0\n",
       "(0027, 1051) [Scan End Location]                 FL: 0.0\n",
       "(0028, 0002) Samples per Pixel                   US: 1\n",
       "(0028, 0004) Photometric Interpretation          CS: 'MONOCHROME2'\n",
       "(0028, 0010) Rows                                US: 512\n",
       "(0028, 0011) Columns                             US: 512\n",
       "(0028, 0030) Pixel Spacing                       DS: ['0.703125', '0.703125']\n",
       "(0028, 0100) Bits Allocated                      US: 16\n",
       "(0028, 0101) Bits Stored                         US: 16\n",
       "(0028, 0102) High Bit                            US: 15\n",
       "(0028, 0103) Pixel Representation                US: 1\n",
       "(0028, 0120) Pixel Padding Value                 SS: -2000\n",
       "(0028, 0303) Longitudinal Temporal Information M SH: 'MODIFIED'\n",
       "(0028, 1050) Window Center                       DS: \"40\"\n",
       "(0028, 1051) Window Width                        DS: \"400\"\n",
       "(0028, 1052) Rescale Intercept                   DS: \"-1024\"\n",
       "(0028, 1053) Rescale Slope                       DS: \"1\"\n",
       "(0028, 1054) Rescale Type                        LO: 'HU'\n",
       "(0040, 0244) Performed Procedure Step Start Date DA: '20000621'\n",
       "(0040, 0245) Performed Procedure Step Start Time TM: '163602'\n",
       "(0040, 0254) Performed Procedure Step Descriptio LO: 'CT THORAX  WITH CONTRA'\n",
       "(0043, 0010) Private Creator                     LO: 'GEMS_PARM_01'\n",
       "(0043, 1010) [Window value]                      US: 400\n",
       "(0043, 1012) [X-ray chain]                       SS: [99, 99, 99]\n",
       "(0043, 1016) [Number of overranges]              SS: -1\n",
       "(0043, 101e) [Delta Start Time [msec]]           DS: \"0.329878\"\n",
       "(0043, 101f) [Max overranges in a view]          SL: 0\n",
       "(0043, 1021) [Corrected after glow terms]        SS: 0\n",
       "(0043, 1025) [Reference channels]                SS: [0, 0, 0, 0, 0, 0]\n",
       "(0043, 1026) [No views ref chans blocked]        US: [0, 0, 0, 0]\n",
       "(0043, 1027) [Scan Pitch Ratio]                  SH: '0.531:1'\n",
       "(0043, 102b) [Private Scan Options]              SS: [4, 0, 0, 0]\n",
       "(0043, 1031) [Recon Center Coordinates]          DS: ['9.300000', '0.000000']\n",
       "(0043, 1040) [Trigger on position]               FL: 51.740501403808594\n",
       "(0043, 1041) [Degree of rotation]                FL: 3091.8291015625\n",
       "(0043, 1042) [DAS trigger source]                SL: 0\n",
       "(0043, 1043) [DAS fpa gain]                      SL: 0\n",
       "(0043, 1044) [DAS output source]                 SL: 0\n",
       "(0043, 1045) [DAS ad input]                      SL: 0\n",
       "(0043, 1046) [DAS cal mode]                      SL: 0\n",
       "(0043, 104d) [Start scan to X-ray on delay]      FL: 0.0\n",
       "(0043, 104e) [Duration of X-ray on]              FL: 5.153048992156982\n",
       "(0043, 1064) [Image Filter]                      CS: ''\n",
       "(0045, 0010) Private Creator                     LO: 'GEMS_HELIOS_01'\n",
       "(0045, 1001) [Number of Macro Rows in Detector]  SS: 32\n",
       "(0045, 1002) [Macro width at ISO Center]         FL: 0.625\n",
       "(0045, 1003) [DAS type]                          SS: 15\n",
       "(0045, 1004) [DAS gain]                          SS: 4\n",
       "(0045, 1006) [Table Direction]                   CS: 'OUT OF GANTRY'\n",
       "(0045, 1007) [Z smoothing Factor]                FL: 0.0\n",
       "(0045, 1008) [View Weighting Mode]               SS: 0\n",
       "(0045, 1009) [Sigma Row number]                  SS: 0\n",
       "(0045, 100a) [Minimum DAS value]                 FL: 0.0\n",
       "(0045, 100b) [Maximum Offset Value]              FL: 0.0\n",
       "(0045, 100c) [Number of Views shifted]           SS: 0\n",
       "(0045, 100d) [Z tracking Flag]                   SS: 0\n",
       "(0045, 100e) [Mean Z error]                      FL: 0.0\n",
       "(0045, 100f) [Z tracking Error]                  FL: 0.0\n",
       "(0045, 1010) [Start View 2A]                     SS: 0\n",
       "(0045, 1011) [Number of Views 2A]                SS: 0\n",
       "(0045, 1012) [Start View 1A]                     SS: 0\n",
       "(0045, 1013) [Sigma Mode]                        SS: 0\n",
       "(0045, 1014) [Number of Views 1A]                SS: 0\n",
       "(0045, 1015) [Start View 2B]                     SS: 0\n",
       "(0045, 1016) [Number Views 2B]                   SS: 0\n",
       "(0045, 1017) [Start View 1B]                     SS: 0\n",
       "(0045, 1018) [Number of Views 1B]                SS: 0\n",
       "(0045, 1021) [Iterbone Flag]                     SS: 0\n",
       "(0045, 1022) [Perisstaltic Flag]                 SS: 0\n",
       "(0045, 1032) [TemporalResolution]                FL: 1.09512197971344\n",
       "(0045, 103b) [NoiseReductionImageFilterDesc]     LO: ''\n",
       "(0073, 0010) Private Creator                     LO: 'STENTOR'\n",
       "(7fe0, 0010) Pixel Data                          OW: Array of 524288 bytes"
      ]
     },
     "execution_count": 57,
     "metadata": {},
     "output_type": "execute_result"
    }
   ],
   "source": [
    "patient[0]"
   ]
  },
  {
   "cell_type": "markdown",
   "metadata": {},
   "source": [
    "## example - the first patient's pixel array (in HU)"
   ]
  },
  {
   "cell_type": "code",
   "execution_count": 58,
   "metadata": {
    "scrolled": true
   },
   "outputs": [
    {
     "data": {
      "text/plain": [
       "array([[-1024, -1024, -1024, ..., -1024, -1024, -1024],\n",
       "       [-1024, -1024, -1024, ..., -1024, -1024, -1024],\n",
       "       [-1024, -1024, -1024, ..., -1024, -1024, -1024],\n",
       "       ...,\n",
       "       [-1024, -1024, -1024, ..., -1024, -1024, -1024],\n",
       "       [-1024, -1024, -1024, ..., -1024, -1024, -1024],\n",
       "       [-1024, -1024, -1024, ..., -1024, -1024, -1024]], dtype=int16)"
      ]
     },
     "execution_count": 58,
     "metadata": {},
     "output_type": "execute_result"
    }
   ],
   "source": [
    "patient[0].pixel_array"
   ]
  },
  {
   "cell_type": "markdown",
   "metadata": {},
   "source": [
    "## example - the first patient's pixel array plotted"
   ]
  },
  {
   "cell_type": "code",
   "execution_count": 59,
   "metadata": {
    "scrolled": true
   },
   "outputs": [
    {
     "data": {
      "text/plain": [
       "<matplotlib.image.AxesImage at 0x2990002ac50>"
      ]
     },
     "execution_count": 59,
     "metadata": {},
     "output_type": "execute_result"
    },
    {
     "data": {
      "image/png": "[encoded data removed]",
      "text/plain": [
       "<matplotlib.figure.Figure at 0x29900000c18>"
      ]
     },
     "metadata": {},
     "output_type": "display_data"
    }
   ],
   "source": [
    "plt.imshow(patient[0].pixel_array,cmap='gray')"
   ]
  },
  {
   "cell_type": "code",
   "execution_count": null,
   "metadata": {},
   "outputs": [],
   "source": []
  }
 ],
 "metadata": {
  "anaconda-cloud": {},
  "kernelspec": {
   "display_name": "Python [conda env:py36]",
   "language": "python",
   "name": "conda-env-py36-py"
  },
  "language_info": {
   "codemirror_mode": {
    "name": "ipython",
    "version": 3
   },
   "file_extension": ".py",
   "mimetype": "text/x-python",
   "name": "python",
   "nbconvert_exporter": "python",
   "pygments_lexer": "ipython3",
   "version": "3.6.4"
  },
  "toc": {
   "nav_menu": {},
   "number_sections": true,
   "sideBar": true,
   "skip_h1_title": false,
   "toc_cell": false,
   "toc_position": {},
   "toc_section_display": "block",
   "toc_window_display": true
  }
 },
 "nbformat": 4,
 "nbformat_minor": 1
}
